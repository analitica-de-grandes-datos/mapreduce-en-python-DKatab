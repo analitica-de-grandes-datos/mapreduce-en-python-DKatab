{
 "cells": [
  {
   "cell_type": "code",
   "execution_count": null,
   "metadata": {},
   "outputs": [],
   "source": [
    "x = open('credit.csv', 'r').readlines()\n",
    "x = [i.split(',') for i in x]\n",
    "col = x[3]"
   ]
  }
 ],
 "metadata": {
  "language_info": {
   "name": "python"
  },
  "orig_nbformat": 4
 },
 "nbformat": 4,
 "nbformat_minor": 2
}
